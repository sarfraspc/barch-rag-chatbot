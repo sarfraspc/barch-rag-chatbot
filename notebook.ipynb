{
 "cells": [
  {
   "cell_type": "code",
   "execution_count": 1,
   "id": "d04a6c53",
   "metadata": {},
   "outputs": [
    {
     "name": "stdout",
     "output_type": "stream",
     "text": [
      "2348\n",
      "Disclosure to Promote the Right To Information\n",
      "Whereas the Parliament of India has set out to provide a practical regime of right to \n",
      "information for citizens to secure access to information under the control of public authorities, \n",
      "in order to promote transparency and accountability in the working of every public authority, \n",
      "and whereas the attached publication of the Bureau of Indian Standards is of particular interest \n",
      "to the public, particularly disadvantaged communities and those engaged in\n"
     ]
    }
   ],
   "source": [
    "from langchain_community.document_loaders import PyMuPDFLoader, DirectoryLoader\n",
    "\n",
    "\n",
    "DATA_PATH=\"data/\"\n",
    "\n",
    "loader = DirectoryLoader(\n",
    "    DATA_PATH,\n",
    "    glob=\"*pdf\",\n",
    "    loader_cls=PyMuPDFLoader\n",
    ")\n",
    "\n",
    "docs=loader.load()\n",
    "print(len(docs))\n",
    "print(docs[0].page_content[:500])"
   ]
  },
  {
   "cell_type": "code",
   "execution_count": 3,
   "id": "a225a193",
   "metadata": {},
   "outputs": [
    {
     "name": "stdout",
     "output_type": "stream",
     "text": [
      "2348\n",
      "Disclosure to Promote the Right To Information\n",
      "Whereas the Parliament of India has set out to provide a practical regime of right to information for citizens to secure access to information under the control of public authorities, in order to promote transparency and accountability in the working of every public authority, and whereas the attached publication of the Bureau of Indian Standards is of particular interest to the public, particularly disadvantaged communities and those engaged in the\n"
     ]
    }
   ],
   "source": [
    "from langchain.schema import Document\n",
    "import re\n",
    "\n",
    "def clean_text(text):\n",
    "    text = re.sub(r'\\bPage\\s*\\d+\\b', '', text, flags=re.IGNORECASE)\n",
    "    text = re.sub(r'^\\s*\\d+\\s*\\$', '', text, flags=re.MULTILINE)\n",
    "    text = re.sub(r\"(?i)\\b(references|bibliography)\\b.*\", \"\", text, flags=re.DOTALL)\n",
    "    text = re.sub(r\"\\n{2,}\", \"\\n\", text)\n",
    "    text = re.sub(r\"\\s{2,}\", \" \", text)\n",
    "    return text.strip()\n",
    "\n",
    "def clean_document(docs):\n",
    "    cleaned_docs = []\n",
    "    for d in docs:\n",
    "        cleaned_text = clean_text(d.page_content)\n",
    "        cleaned_docs.append(\n",
    "            Document(page_content=cleaned_text, metadata=d.metadata)\n",
    "        )\n",
    "    return cleaned_docs\n",
    "\n",
    "cleaned_docs = clean_document(docs)\n",
    "print(len(cleaned_docs))\n",
    "print(cleaned_docs[0].page_content[:500])"
   ]
  },
  {
   "cell_type": "code",
   "execution_count": 4,
   "id": "340db2ce",
   "metadata": {},
   "outputs": [
    {
     "name": "stdout",
     "output_type": "stream",
     "text": [
      "8360\n",
      "{'producer': 'itext-paulo-155 (itextpdf.sf.net-lowagie.com)', 'creator': 'pdftk 1.44 - www.pdftk.com', 'creationdate': '2013-09-05T09:03:05-07:00', 'source': 'data\\\\1(is code).pdf', 'file_path': 'data\\\\1(is code).pdf', 'total_pages': 114, 'format': 'PDF 1.4', 'title': 'IS 456 (2000): Plain and Reinforced Concrete - Code of Practice', 'author': 'Bureau of Indian Standards', 'subject': 'Published Under the Right to Information Act', 'keywords': '', 'moddate': '2013-09-05T09:03:05-07:00', 'trapped': '', 'modDate': \"D:20130905090305-07'00'\", 'creationDate': \"D:20130905090305-07'00'\", 'page': 0, 'chunk': 1}\n",
      "Whereas the Parliament of India has set out to provide a practical regime of right to information for citizens to secure access to information under the control of public authorities, in order to promote transparency and accountability in the\n"
     ]
    }
   ],
   "source": [
    "from langchain.text_splitter import RecursiveCharacterTextSplitter\n",
    "\n",
    "splitter = RecursiveCharacterTextSplitter(\n",
    "    chunk_size=250,\n",
    "    chunk_overlap=50,\n",
    "    separators=[\"\\n\\n\", \"\\n\", \" \", \"\"]\n",
    ")\n",
    "\n",
    "all_chunks = []\n",
    "for doc in cleaned_docs:\n",
    "    chunks = splitter.split_text(doc.page_content)\n",
    "    for i, chunk in enumerate(chunks):\n",
    "        all_chunks.append(\n",
    "            Document(page_content=chunk, metadata={**doc.metadata, 'chunk': i})\n",
    "        )\n",
    "\n",
    "print(len(all_chunks))\n",
    "print(all_chunks[1].metadata)\n",
    "print(all_chunks[1].page_content[:500])"
   ]
  },
  {
   "cell_type": "code",
   "execution_count": 5,
   "id": "9732dc23",
   "metadata": {},
   "outputs": [
    {
     "name": "stderr",
     "output_type": "stream",
     "text": [
      "C:\\Users\\sarfras\\AppData\\Local\\Temp\\ipykernel_1156\\328234917.py:3: LangChainDeprecationWarning: The class `HuggingFaceEmbeddings` was deprecated in LangChain 0.2.2 and will be removed in 1.0. An updated version of the class exists in the :class:`~langchain-huggingface package and should be used instead. To use it run `pip install -U :class:`~langchain-huggingface` and import as `from :class:`~langchain_huggingface import HuggingFaceEmbeddings``.\n",
      "  embeddings = HuggingFaceEmbeddings(\n",
      "c:\\Users\\sarfras\\anaconda3\\envs\\chatbot\\lib\\site-packages\\tqdm\\auto.py:21: TqdmWarning: IProgress not found. Please update jupyter and ipywidgets. See https://ipywidgets.readthedocs.io/en/stable/user_install.html\n",
      "  from .autonotebook import tqdm as notebook_tqdm\n",
      "c:\\Users\\sarfras\\anaconda3\\envs\\chatbot\\lib\\site-packages\\huggingface_hub\\file_download.py:143: UserWarning: `huggingface_hub` cache-system uses symlinks by default to efficiently store duplicated files but your machine does not support them in C:\\Users\\sarfras\\.cache\\huggingface\\hub\\models--sentence-transformers--all-MiniLM-L6-v2. Caching files will still work but in a degraded version that might require more space on your disk. This warning can be disabled by setting the `HF_HUB_DISABLE_SYMLINKS_WARNING` environment variable. For more details, see https://huggingface.co/docs/huggingface_hub/how-to-cache#limitations.\n",
      "To support symlinks on Windows, you either need to activate Developer Mode or to run Python as an administrator. In order to activate developer mode, see this article: https://docs.microsoft.com/en-us/windows/apps/get-started/enable-your-device-for-development\n",
      "  warnings.warn(message)\n",
      "Xet Storage is enabled for this repo, but the 'hf_xet' package is not installed. Falling back to regular HTTP download. For better performance, install the package with: `pip install huggingface_hub[hf_xet]` or `pip install hf_xet`\n"
     ]
    },
    {
     "name": "stdout",
     "output_type": "stream",
     "text": [
      "384\n"
     ]
    }
   ],
   "source": [
    "from langchain.embeddings import HuggingFaceEmbeddings\n",
    "\n",
    "embeddings = HuggingFaceEmbeddings(\n",
    "    model_name=\"sentence-transformers/all-MiniLM-L6-v2\",\n",
    "    model_kwargs={'device': 'cpu'}\n",
    ")\n",
    "\n",
    "vector = embeddings.embed_query(all_chunks[0].page_content)\n",
    "print(len(vector))"
   ]
  },
  {
   "cell_type": "code",
   "execution_count": 6,
   "id": "df39ca3f",
   "metadata": {},
   "outputs": [
    {
     "name": "stdout",
     "output_type": "stream",
     "text": [
      "done\n"
     ]
    },
    {
     "name": "stderr",
     "output_type": "stream",
     "text": [
      "C:\\Users\\sarfras\\AppData\\Local\\Temp\\ipykernel_1156\\1053577965.py:11: LangChainDeprecationWarning: Since Chroma 0.4.x the manual persistence method is no longer supported as docs are automatically persisted.\n",
      "  vector_db.persist()\n"
     ]
    }
   ],
   "source": [
    "from langchain.vectorstores import Chroma\n",
    "\n",
    "DB_DIR = \"chroma_db\"\n",
    "\n",
    "vector_db = Chroma.from_documents(\n",
    "    documents=all_chunks,\n",
    "    embedding=embeddings,\n",
    "    persist_directory=DB_DIR\n",
    ")\n",
    "\n",
    "vector_db.persist()\n",
    "print(\"done\")"
   ]
  },
  {
   "cell_type": "code",
   "execution_count": null,
   "id": "2c48a390",
   "metadata": {},
   "outputs": [],
   "source": [
    "from langchain_groq import ChatGroq\n",
    "from langsmith import traceable\n",
    "import os\n",
    "from dotenv import load_dotenv\n",
    "\n",
    "load_dotenv()\n",
    "groq_api_key = os.getenv(\"GROQ_API_KEY\")\n",
    "\n",
    "\n",
    "llm = ChatGroq(\n",
    "    model=\"llama3-70b-8192\",  \n",
    "    api_key=groq_api_key\n",
    ")\n",
    "\n",
    "retriever = vector_db.as_retriever(search_type=\"similarity\", search_kwargs={'k': 2})\n",
    "\n"
   ]
  },
  {
   "cell_type": "code",
   "execution_count": 26,
   "id": "c8e7e3a3",
   "metadata": {},
   "outputs": [],
   "source": [
    "from langchain.prompts import PromptTemplate\n",
    "\n",
    "template = \"\"\"\n",
    "You are an Expert Academic Research Assistant.\n",
    "\n",
    "Use only the provided context to answer the question. \n",
    "Cite sections, pages, or PDF names whenever possible.\n",
    "\n",
    "If the answer is not in the context, respond: \"I don't have enough information.\"\n",
    "\n",
    "Context:\n",
    "{context}\n",
    "\n",
    "Question:\n",
    "{question}\n",
    "\n",
    "Answer in a formal, academic style with step-by-step reasoning.\n",
    "\"\"\"\n",
    "\n",
    "prompt = PromptTemplate(\n",
    "    template=template,\n",
    "    input_variables=[\"context\", \"question\"]\n",
    ")"
   ]
  },
  {
   "cell_type": "code",
   "execution_count": 27,
   "id": "654df95d",
   "metadata": {},
   "outputs": [],
   "source": [
    "from langchain.chains import RetrievalQA\n",
    "\n",
    "chain = RetrievalQA.from_chain_type(\n",
    "    llm=llm,\n",
    "    chain_type=\"stuff\",\n",
    "    retriever=retriever,\n",
    "    return_source_documents=True,\n",
    "    chain_type_kwargs={\"prompt\": prompt}\n",
    ")"
   ]
  },
  {
   "cell_type": "code",
   "execution_count": 28,
   "id": "e0eec1a7",
   "metadata": {},
   "outputs": [
    {
     "name": "stdout",
     "output_type": "stream",
     "text": [
      "According to the provided context, stone veneer can be defined as a thin slab of natural stone, typically with a nominal thickness of 31-37 mm (1 1/4 to 1 1/2 inches), affixed to the side of an existing structure, offering a similar look and feel of real stone at a significantly reduced cost (PROS section).\n"
     ]
    }
   ],
   "source": [
    "query = \"explain STONE VENEER,give me in 1 sentance\"\n",
    "result = chain.invoke({\"query\": query})\n",
    "print(result[\"result\"])"
   ]
  }
 ],
 "metadata": {
  "kernelspec": {
   "display_name": "chatbot",
   "language": "python",
   "name": "python3"
  },
  "language_info": {
   "codemirror_mode": {
    "name": "ipython",
    "version": 3
   },
   "file_extension": ".py",
   "mimetype": "text/x-python",
   "name": "python",
   "nbconvert_exporter": "python",
   "pygments_lexer": "ipython3",
   "version": "3.10.18"
  }
 },
 "nbformat": 4,
 "nbformat_minor": 5
}
