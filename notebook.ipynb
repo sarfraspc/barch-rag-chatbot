{
 "cells": [
  {
   "cell_type": "code",
   "execution_count": 32,
   "id": "2e39b99d",
   "metadata": {},
   "outputs": [],
   "source": [
    "from dotenv import load_dotenv\n",
    "load_dotenv()\n",
    "\n",
    "from src.loader import load_pdfs\n",
    "from src.cleaner import clean_documents\n",
    "from src.splitter import split_docs\n",
    "from src.embeddings import get_embeddings\n",
    "from src.vectorstore import build_vectorstore\n",
    "from src.qa import create_qa_chain"
   ]
  },
  {
   "cell_type": "code",
   "execution_count": 33,
   "id": "8a7279db",
   "metadata": {},
   "outputs": [
    {
     "name": "stdout",
     "output_type": "stream",
     "text": [
      "Loaded 2348 documents\n"
     ]
    }
   ],
   "source": [
    "docs=load_pdfs()"
   ]
  },
  {
   "cell_type": "code",
   "execution_count": 34,
   "id": "3cedefc5",
   "metadata": {},
   "outputs": [
    {
     "name": "stdout",
     "output_type": "stream",
     "text": [
      "Cleaned 2348 documents\n"
     ]
    }
   ],
   "source": [
    "cleaned_docs = clean_documents(docs)"
   ]
  },
  {
   "cell_type": "code",
   "execution_count": 35,
   "id": "99b6e0fc",
   "metadata": {},
   "outputs": [
    {
     "name": "stdout",
     "output_type": "stream",
     "text": [
      "Created 8360 chunks\n"
     ]
    }
   ],
   "source": [
    "chunks = split_docs(cleaned_docs)"
   ]
  },
  {
   "cell_type": "code",
   "execution_count": 36,
   "id": "2bda4dd6",
   "metadata": {},
   "outputs": [
    {
     "name": "stdout",
     "output_type": "stream",
     "text": [
      "Using sentence-transformers/all-MiniLM-L6-v2 on cpu\n"
     ]
    }
   ],
   "source": [
    "embeddings = get_embeddings()"
   ]
  },
  {
   "cell_type": "code",
   "execution_count": 37,
   "id": "0dd0b956",
   "metadata": {},
   "outputs": [
    {
     "name": "stdout",
     "output_type": "stream",
     "text": [
      "Vector DB persisted at chroma_db\n"
     ]
    }
   ],
   "source": [
    "vector_db = build_vectorstore(chunks, embeddings)"
   ]
  },
  {
   "cell_type": "code",
   "execution_count": 38,
   "id": "9a4f107c",
   "metadata": {},
   "outputs": [
    {
     "name": "stdout",
     "output_type": "stream",
     "text": [
      "RetrievalQA chain ready using llama3-70b-8192 and LangSmith project 'b-arch-chatbot'\n"
     ]
    }
   ],
   "source": [
    "qa_chain = create_qa_chain(vector_db)"
   ]
  },
  {
   "cell_type": "code",
   "execution_count": 39,
   "id": "0558f4bd",
   "metadata": {},
   "outputs": [
    {
     "name": "stdout",
     "output_type": "stream",
     "text": [
      "Answer: Based on the provided context, it can be inferred that metal cladding profiles serve as a general category, encompassing various types of cladding materials, including aluminium. \n",
      "\n",
      "As the context specifically mentions \"metal cladding profiles,\" it is reasonable to assume that aluminium cladding, being a type of metal cladding, would fall under this category. \n",
      "\n",
      "Therefore, it can be logically deduced that aluminium cladding would have a similar range of profiles as metal cladding profiles in general. \n",
      "\n",
      "This conclusion is supported by the categorical relationship between metal cladding profiles and aluminium cladding, where the latter is a subset of the former.\n",
      "\n",
      "(Source: Context - Metal cladding profiles)\n",
      "\n",
      "Please note that this answer is based on the limited information provided and may require further evidence or research to establish a more comprehensive understanding of the topic.\n",
      "Sources: [{'page': 39, 'author': 'shafnaibm@gmail.com', 'trapped': '', 'total_pages': 58, 'format': 'PDF 1.6', 'producer': 'Microsoft® PowerPoint® 2010', 'subject': '', 'creator': 'Microsoft® PowerPoint® 2010', 'file_path': 'data\\\\_module 1  - wall Cladding.pdf', 'moddate': '2020-02-05T11:40:59+05:30', 'chunk': 0, 'keywords': '', 'source': 'data\\\\_module 1  - wall Cladding.pdf', 'modDate': \"D:20200205114059+05'30'\", 'creationDate': \"D:20190821200657+05'30'\", 'creationdate': '2019-08-21T20:06:57+05:30', 'title': 'AR12 – 52 BUILDING CONSTRUCTION MATERIALS & STRUCTURAL SYSTEM- IV'}, {'creator': 'Microsoft® PowerPoint® 2010', 'trapped': '', 'source': 'data\\\\_module 1  - wall Cladding.pdf', 'creationdate': '2019-08-21T20:06:57+05:30', 'author': 'shafnaibm@gmail.com', 'moddate': '2020-02-05T11:40:59+05:30', 'page': 39, 'producer': 'Microsoft® PowerPoint® 2010', 'modDate': \"D:20200205114059+05'30'\", 'subject': '', 'file_path': 'data\\\\_module 1  - wall Cladding.pdf', 'title': 'AR12 – 52 BUILDING CONSTRUCTION MATERIALS & STRUCTURAL SYSTEM- IV', 'format': 'PDF 1.6', 'chunk': 0, 'keywords': '', 'total_pages': 58, 'creationDate': \"D:20190821200657+05'30'\"}]\n"
     ]
    }
   ],
   "source": [
    "query = \"Aluminium cladding has a similar range of profiles\"\n",
    "result = qa_chain.invoke({\"query\": query})\n",
    "\n",
    "print(\"Answer:\", result[\"result\"])\n",
    "print(\"Sources:\", [doc.metadata for doc in result[\"source_documents\"]])"
   ]
  }
 ],
 "metadata": {
  "kernelspec": {
   "display_name": "chatbot",
   "language": "python",
   "name": "python3"
  },
  "language_info": {
   "codemirror_mode": {
    "name": "ipython",
    "version": 3
   },
   "file_extension": ".py",
   "mimetype": "text/x-python",
   "name": "python",
   "nbconvert_exporter": "python",
   "pygments_lexer": "ipython3",
   "version": "3.10.18"
  }
 },
 "nbformat": 4,
 "nbformat_minor": 5
}
